{
 "cells": [
  {
   "cell_type": "code",
   "execution_count": 2,
   "id": "74fc051b-c38f-4524-8460-eafbe70ee633",
   "metadata": {},
   "outputs": [
    {
     "name": "stdout",
     "output_type": "stream",
     "text": [
      "['Sentences segmentation is an important task']\n"
     ]
    }
   ],
   "source": [
    "#NLP Pipeline\n",
    "#sentence segmentation\n",
    "from nltk.tokenize import sent_tokenize\n",
    "text=\"Sentences segmentation is an important task\"\n",
    "sentences=sent_tokenize(text)\n",
    "print(sentences)"
   ]
  },
  {
   "cell_type": "code",
   "execution_count": 1,
   "id": "37f3e0b0-37b5-40b0-87b7-f7183b631631",
   "metadata": {},
   "outputs": [
    {
     "ename": "NameError",
     "evalue": "name 'word_tokenize' is not defined",
     "output_type": "error",
     "traceback": [
      "\u001b[1;31m---------------------------------------------------------------------------\u001b[0m",
      "\u001b[1;31mNameError\u001b[0m                                 Traceback (most recent call last)",
      "Cell \u001b[1;32mIn[1], line 1\u001b[0m\n\u001b[1;32m----> 1\u001b[0m tokens\u001b[38;5;241m=\u001b[39mword_tokenize(text)\n",
      "\u001b[1;31mNameError\u001b[0m: name 'word_tokenize' is not defined"
     ]
    }
   ],
   "source": [
    "tokens=word_tokenize(text)\n",
    "#word token"
   ]
  },
  {
   "cell_type": "code",
   "execution_count": null,
   "id": "7249c6bf-6bf7-4529-8ba4-c1f58775827e",
   "metadata": {},
   "outputs": [],
   "source": [
    "#steamming for large dataset it is used"
   ]
  },
  {
   "cell_type": "code",
   "execution_count": 6,
   "id": "0262ef02-1f98-4ab9-ad37-4b6c77f9c812",
   "metadata": {},
   "outputs": [
    {
     "name": "stderr",
     "output_type": "stream",
     "text": [
      "[nltk_data] Downloading package punkt to\n",
      "[nltk_data]     C:\\Users\\HP\\AppData\\Roaming\\nltk_data...\n",
      "[nltk_data]   Package punkt is already up-to-date!\n",
      "[nltk_data] Downloading package wordnet to\n",
      "[nltk_data]     C:\\Users\\HP\\AppData\\Roaming\\nltk_data...\n",
      "[nltk_data]   Package wordnet is already up-to-date!\n",
      "[nltk_data] Downloading package omw-1.4 to\n",
      "[nltk_data]     C:\\Users\\HP\\AppData\\Roaming\\nltk_data...\n",
      "[nltk_data]   Package omw-1.4 is already up-to-date!\n"
     ]
    },
    {
     "name": "stdout",
     "output_type": "stream",
     "text": [
      "The child are playing outside . They have played for hour and will continue to play .\n"
     ]
    }
   ],
   "source": [
    "#Lemmatization grammar mistake we use this\n",
    "from nltk.stem import WordNetLemmatizer\n",
    "from nltk.tokenize import word_tokenize\n",
    "import nltk\n",
    "\n",
    "# Download the necessary NLTK data files (only needed once)\n",
    "nltk.download('punkt')\n",
    "nltk.download('wordnet')\n",
    "nltk.download('omw-1.4')\n",
    "\n",
    "# Initialize the WordNetLemmatizer\n",
    "lemmatizer = WordNetLemmatizer()\n",
    "\n",
    "# Input text to be lemmatized\n",
    "text = \"The children are playing outside. They have played for hours and will continue to play.\"\n",
    "\n",
    "# Tokenize the text\n",
    "tokens = word_tokenize(text)\n",
    "\n",
    "# Lemmatize each word\n",
    "lemmatized_words = [lemmatizer.lemmatize(token) for token in tokens]\n",
    "\n",
    "# Join the lemmatized words back into a sentence\n",
    "lemmatized_text = \" \".join(lemmatized_words)\n",
    "print(lemmatized_text)\n"
   ]
  },
  {
   "cell_type": "code",
   "execution_count": 7,
   "id": "1be320f4-5c95-447e-b356-fb2f5511768a",
   "metadata": {},
   "outputs": [
    {
     "name": "stdout",
     "output_type": "stream",
     "text": [
      "Stop words in the text: ['The', 'are', 'in', 'the']\n"
     ]
    },
    {
     "name": "stderr",
     "output_type": "stream",
     "text": [
      "[nltk_data] Downloading package punkt to\n",
      "[nltk_data]     C:\\Users\\HP\\AppData\\Roaming\\nltk_data...\n",
      "[nltk_data]   Package punkt is already up-to-date!\n",
      "[nltk_data] Downloading package stopwords to\n",
      "[nltk_data]     C:\\Users\\HP\\AppData\\Roaming\\nltk_data...\n",
      "[nltk_data]   Package stopwords is already up-to-date!\n"
     ]
    }
   ],
   "source": [
    "#Identifying Stop Words------------ they are considered as the noises\n",
    "from nltk.corpus import stopwords\n",
    "from nltk.tokenize import word_tokenize\n",
    "import nltk\n",
    "\n",
    "# Download the necessary NLTK data files (only needed once)\n",
    "nltk.download('punkt')\n",
    "nltk.download('stopwords')\n",
    "\n",
    "# Define the list of stop words in English\n",
    "stop_words = set(stopwords.words('english'))\n",
    "\n",
    "# Input text\n",
    "text = \"The children are playing outside in the bright sunshine.\"\n",
    "\n",
    "# Tokenize the text\n",
    "tokens = word_tokenize(text)\n",
    "\n",
    "# Identify stop words in the text\n",
    "stop_words_in_text = [word for word in tokens if word.lower() in stop_words]\n",
    "\n",
    "# Print the stop words found in the text\n",
    "print(\"Stop words in the text:\", stop_words_in_text)\n"
   ]
  },
  {
   "cell_type": "code",
   "execution_count": null,
   "id": "a213c415-5c29-4aea-a2dd-3ecd60fc0ead",
   "metadata": {},
   "outputs": [],
   "source": [
    "#Dependency Parsing\n"
   ]
  },
  {
   "cell_type": "code",
   "execution_count": null,
   "id": "03f8d6b7-9dec-4870-89b6-86bffe09bcc6",
   "metadata": {},
   "outputs": [],
   "source": [
    "#POS tags------------parts of speech which includes the noun,verbs etc\n"
   ]
  },
  {
   "cell_type": "code",
   "execution_count": 9,
   "id": "b8ccd8f0-8cce-4e8f-b163-431e5e80fbe3",
   "metadata": {},
   "outputs": [
    {
     "name": "stdout",
     "output_type": "stream",
     "text": [
      "Word: The, POS: DT\n",
      "Word: quick, POS: JJ\n",
      "Word: brown, POS: NN\n",
      "Word: fox, POS: NN\n",
      "Word: jumps, POS: VBZ\n",
      "Word: over, POS: IN\n",
      "Word: the, POS: DT\n",
      "Word: lazy, POS: JJ\n",
      "Word: dog, POS: NN\n",
      "Word: ., POS: .\n"
     ]
    }
   ],
   "source": [
    "import nltk\n",
    "from nltk import pos_tag\n",
    "from nltk.tokenize import word_tokenize\n",
    "\n",
    "# Input sentence\n",
    "sentence = \"The quick brown fox jumps over the lazy dog.\"\n",
    "\n",
    "# Tokenize the sentence\n",
    "words = word_tokenize(sentence)\n",
    "\n",
    "# Perform POS tagging\n",
    "pos_tags = pos_tag(words)\n",
    "\n",
    "# Print each word with its POS tag\n",
    "for word, tag in pos_tags:\n",
    "    print(f\"Word: {word}, POS: {tag}\")\n"
   ]
  },
  {
   "cell_type": "code",
   "execution_count": null,
   "id": "9ce48d0f-2968-4d5b-8f00-884c98516942",
   "metadata": {},
   "outputs": [],
   "source": [
    "#Named Entity Recognition(NER)----------------------detecting the name,place etc\n"
   ]
  },
  {
   "cell_type": "code",
   "execution_count": null,
   "id": "423615e9-7c50-4da4-964b-eaf7cac62f77",
   "metadata": {},
   "outputs": [],
   "source": [
    "#Chunking-----------------------collect the individual piece of information and grouping them.\n",
    "from nltk import pos_tag,ne_chunk\n"
   ]
  }
 ],
 "metadata": {
  "kernelspec": {
   "display_name": "Python 3 (ipykernel)",
   "language": "python",
   "name": "python3"
  },
  "language_info": {
   "codemirror_mode": {
    "name": "ipython",
    "version": 3
   },
   "file_extension": ".py",
   "mimetype": "text/x-python",
   "name": "python",
   "nbconvert_exporter": "python",
   "pygments_lexer": "ipython3",
   "version": "3.12.4"
  }
 },
 "nbformat": 4,
 "nbformat_minor": 5
}
